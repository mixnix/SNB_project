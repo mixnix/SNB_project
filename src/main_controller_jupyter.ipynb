{
 "cells": [
  {
   "cell_type": "code",
   "execution_count": null,
   "metadata": {
    "collapsed": true
   },
   "outputs": [],
   "source": [
    "from src.helperfunctions import *\n",
    "from src.neural_network_classifier import *\n",
    "\n",
    "data = load_preprocess_house_data(\"../data/house_prices/data.csv\")\n",
    "\n",
    "scale_features = True\n",
    "scale_target = True\n",
    "\n",
    "epochs = 100\n",
    "\n",
    "scale_factor = 0\n",
    "\n",
    "####################################\n",
    "\n",
    "train_data_and_results = data[0:1300]\n",
    "test_data_and_results = data[1300:]\n",
    "\n",
    "train_data = train_data_and_results[:, :-1]\n",
    "train_results = train_data_and_results[:, -1:]\n",
    "test_data = test_data_and_results[:, :-1]\n",
    "test_results = test_data_and_results[:, -1:]\n",
    "\n",
    "if scale_features:\n",
    "    train_data = standarize(train_data)\n",
    "    test_data = standarize(test_data)\n",
    "\n",
    "if scale_target:\n",
    "    train_results, test_results, scale_factor = scale_target_function(train_results, test_results)\n",
    "\n",
    "\n",
    "\n",
    "prepared_train_vector = np.append(train_data, train_results, axis=1)\n",
    "prepared_test_vector = np.append(test_data, test_results, axis=1)\n",
    "\n"
   ]
  }
 ],
 "metadata": {
  "kernelspec": {
   "display_name": "Python 2",
   "language": "python",
   "name": "python2"
  },
  "language_info": {
   "codemirror_mode": {
    "name": "ipython",
    "version": 2
   },
   "file_extension": ".py",
   "mimetype": "text/x-python",
   "name": "python",
   "nbconvert_exporter": "python",
   "pygments_lexer": "ipython2",
   "version": "2.7.6"
  }
 },
 "nbformat": 4,
 "nbformat_minor": 0
}
